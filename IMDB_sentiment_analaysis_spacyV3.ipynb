{
  "nbformat": 4,
  "nbformat_minor": 0,
  "metadata": {
    "colab": {
      "name": "IMDB sentiment analaysis spacyV3.ipynb",
      "provenance": [],
      "collapsed_sections": [
        "5tstgoJw4qik",
        "6ZSHbdyW4wrq",
        "NHyNeI35Bdw-",
        "n1f4KDJs73WN",
        "0ta7JIy2BBpz",
        "MZa9OGYvlscz"
      ],
      "toc_visible": true
    },
    "kernelspec": {
      "name": "python3",
      "display_name": "Python 3"
    },
    "language_info": {
      "name": "python"
    },
    "accelerator": "GPU",
    "widgets": {
      "application/vnd.jupyter.widget-state+json": {
        "0b6a49bfcc0a4513b2b0f8733d7903c8": {
          "model_module": "@jupyter-widgets/controls",
          "model_name": "HBoxModel",
          "state": {
            "_view_name": "HBoxView",
            "_dom_classes": [],
            "_model_name": "HBoxModel",
            "_view_module": "@jupyter-widgets/controls",
            "_model_module_version": "1.5.0",
            "_view_count": null,
            "_view_module_version": "1.5.0",
            "box_style": "",
            "layout": "IPY_MODEL_b6d7d650152b4d19a31ab4dee8875bf9",
            "_model_module": "@jupyter-widgets/controls",
            "children": [
              "IPY_MODEL_ff49b306d29c4647b830f9324f1460fd",
              "IPY_MODEL_19c5d96885a5458b822ca5005a789a95"
            ]
          }
        },
        "b6d7d650152b4d19a31ab4dee8875bf9": {
          "model_module": "@jupyter-widgets/base",
          "model_name": "LayoutModel",
          "state": {
            "_view_name": "LayoutView",
            "grid_template_rows": null,
            "right": null,
            "justify_content": null,
            "_view_module": "@jupyter-widgets/base",
            "overflow": null,
            "_model_module_version": "1.2.0",
            "_view_count": null,
            "flex_flow": null,
            "width": null,
            "min_width": null,
            "border": null,
            "align_items": null,
            "bottom": null,
            "_model_module": "@jupyter-widgets/base",
            "top": null,
            "grid_column": null,
            "overflow_y": null,
            "overflow_x": null,
            "grid_auto_flow": null,
            "grid_area": null,
            "grid_template_columns": null,
            "flex": null,
            "_model_name": "LayoutModel",
            "justify_items": null,
            "grid_row": null,
            "max_height": null,
            "align_content": null,
            "visibility": null,
            "align_self": null,
            "height": null,
            "min_height": null,
            "padding": null,
            "grid_auto_rows": null,
            "grid_gap": null,
            "max_width": null,
            "order": null,
            "_view_module_version": "1.2.0",
            "grid_template_areas": null,
            "object_position": null,
            "object_fit": null,
            "grid_auto_columns": null,
            "margin": null,
            "display": null,
            "left": null
          }
        },
        "ff49b306d29c4647b830f9324f1460fd": {
          "model_module": "@jupyter-widgets/controls",
          "model_name": "FloatProgressModel",
          "state": {
            "_view_name": "ProgressView",
            "style": "IPY_MODEL_1a56d40246d841c794d1f5e2a0f46eba",
            "_dom_classes": [],
            "description": "100%",
            "_model_name": "FloatProgressModel",
            "bar_style": "success",
            "max": 10000,
            "_view_module": "@jupyter-widgets/controls",
            "_model_module_version": "1.5.0",
            "value": 10000,
            "_view_count": null,
            "_view_module_version": "1.5.0",
            "orientation": "horizontal",
            "min": 0,
            "description_tooltip": null,
            "_model_module": "@jupyter-widgets/controls",
            "layout": "IPY_MODEL_e67e619ef82b49d7bdf583bc3757b29c"
          }
        },
        "19c5d96885a5458b822ca5005a789a95": {
          "model_module": "@jupyter-widgets/controls",
          "model_name": "HTMLModel",
          "state": {
            "_view_name": "HTMLView",
            "style": "IPY_MODEL_f97b815168a14975a90e6c6127a191bc",
            "_dom_classes": [],
            "description": "",
            "_model_name": "HTMLModel",
            "placeholder": "​",
            "_view_module": "@jupyter-widgets/controls",
            "_model_module_version": "1.5.0",
            "value": " 10000/10000 [1:31:14&lt;00:00,  1.83it/s]",
            "_view_count": null,
            "_view_module_version": "1.5.0",
            "description_tooltip": null,
            "_model_module": "@jupyter-widgets/controls",
            "layout": "IPY_MODEL_4cf970505377467b89bdd72824658890"
          }
        },
        "1a56d40246d841c794d1f5e2a0f46eba": {
          "model_module": "@jupyter-widgets/controls",
          "model_name": "ProgressStyleModel",
          "state": {
            "_view_name": "StyleView",
            "_model_name": "ProgressStyleModel",
            "description_width": "initial",
            "_view_module": "@jupyter-widgets/base",
            "_model_module_version": "1.5.0",
            "_view_count": null,
            "_view_module_version": "1.2.0",
            "bar_color": null,
            "_model_module": "@jupyter-widgets/controls"
          }
        },
        "e67e619ef82b49d7bdf583bc3757b29c": {
          "model_module": "@jupyter-widgets/base",
          "model_name": "LayoutModel",
          "state": {
            "_view_name": "LayoutView",
            "grid_template_rows": null,
            "right": null,
            "justify_content": null,
            "_view_module": "@jupyter-widgets/base",
            "overflow": null,
            "_model_module_version": "1.2.0",
            "_view_count": null,
            "flex_flow": null,
            "width": null,
            "min_width": null,
            "border": null,
            "align_items": null,
            "bottom": null,
            "_model_module": "@jupyter-widgets/base",
            "top": null,
            "grid_column": null,
            "overflow_y": null,
            "overflow_x": null,
            "grid_auto_flow": null,
            "grid_area": null,
            "grid_template_columns": null,
            "flex": null,
            "_model_name": "LayoutModel",
            "justify_items": null,
            "grid_row": null,
            "max_height": null,
            "align_content": null,
            "visibility": null,
            "align_self": null,
            "height": null,
            "min_height": null,
            "padding": null,
            "grid_auto_rows": null,
            "grid_gap": null,
            "max_width": null,
            "order": null,
            "_view_module_version": "1.2.0",
            "grid_template_areas": null,
            "object_position": null,
            "object_fit": null,
            "grid_auto_columns": null,
            "margin": null,
            "display": null,
            "left": null
          }
        },
        "f97b815168a14975a90e6c6127a191bc": {
          "model_module": "@jupyter-widgets/controls",
          "model_name": "DescriptionStyleModel",
          "state": {
            "_view_name": "StyleView",
            "_model_name": "DescriptionStyleModel",
            "description_width": "",
            "_view_module": "@jupyter-widgets/base",
            "_model_module_version": "1.5.0",
            "_view_count": null,
            "_view_module_version": "1.2.0",
            "_model_module": "@jupyter-widgets/controls"
          }
        },
        "4cf970505377467b89bdd72824658890": {
          "model_module": "@jupyter-widgets/base",
          "model_name": "LayoutModel",
          "state": {
            "_view_name": "LayoutView",
            "grid_template_rows": null,
            "right": null,
            "justify_content": null,
            "_view_module": "@jupyter-widgets/base",
            "overflow": null,
            "_model_module_version": "1.2.0",
            "_view_count": null,
            "flex_flow": null,
            "width": null,
            "min_width": null,
            "border": null,
            "align_items": null,
            "bottom": null,
            "_model_module": "@jupyter-widgets/base",
            "top": null,
            "grid_column": null,
            "overflow_y": null,
            "overflow_x": null,
            "grid_auto_flow": null,
            "grid_area": null,
            "grid_template_columns": null,
            "flex": null,
            "_model_name": "LayoutModel",
            "justify_items": null,
            "grid_row": null,
            "max_height": null,
            "align_content": null,
            "visibility": null,
            "align_self": null,
            "height": null,
            "min_height": null,
            "padding": null,
            "grid_auto_rows": null,
            "grid_gap": null,
            "max_width": null,
            "order": null,
            "_view_module_version": "1.2.0",
            "grid_template_areas": null,
            "object_position": null,
            "object_fit": null,
            "grid_auto_columns": null,
            "margin": null,
            "display": null,
            "left": null
          }
        },
        "829ab32bdf15418b84e1c5217d598865": {
          "model_module": "@jupyter-widgets/controls",
          "model_name": "HBoxModel",
          "state": {
            "_view_name": "HBoxView",
            "_dom_classes": [],
            "_model_name": "HBoxModel",
            "_view_module": "@jupyter-widgets/controls",
            "_model_module_version": "1.5.0",
            "_view_count": null,
            "_view_module_version": "1.5.0",
            "box_style": "",
            "layout": "IPY_MODEL_69f5e06bc89d4a4bb1e824deb9e737b5",
            "_model_module": "@jupyter-widgets/controls",
            "children": [
              "IPY_MODEL_d97048d1575c42fe8f297287189ae8b2",
              "IPY_MODEL_63e862b55c604a7fa65c195863509bb4"
            ]
          }
        },
        "69f5e06bc89d4a4bb1e824deb9e737b5": {
          "model_module": "@jupyter-widgets/base",
          "model_name": "LayoutModel",
          "state": {
            "_view_name": "LayoutView",
            "grid_template_rows": null,
            "right": null,
            "justify_content": null,
            "_view_module": "@jupyter-widgets/base",
            "overflow": null,
            "_model_module_version": "1.2.0",
            "_view_count": null,
            "flex_flow": null,
            "width": null,
            "min_width": null,
            "border": null,
            "align_items": null,
            "bottom": null,
            "_model_module": "@jupyter-widgets/base",
            "top": null,
            "grid_column": null,
            "overflow_y": null,
            "overflow_x": null,
            "grid_auto_flow": null,
            "grid_area": null,
            "grid_template_columns": null,
            "flex": null,
            "_model_name": "LayoutModel",
            "justify_items": null,
            "grid_row": null,
            "max_height": null,
            "align_content": null,
            "visibility": null,
            "align_self": null,
            "height": null,
            "min_height": null,
            "padding": null,
            "grid_auto_rows": null,
            "grid_gap": null,
            "max_width": null,
            "order": null,
            "_view_module_version": "1.2.0",
            "grid_template_areas": null,
            "object_position": null,
            "object_fit": null,
            "grid_auto_columns": null,
            "margin": null,
            "display": null,
            "left": null
          }
        },
        "d97048d1575c42fe8f297287189ae8b2": {
          "model_module": "@jupyter-widgets/controls",
          "model_name": "FloatProgressModel",
          "state": {
            "_view_name": "ProgressView",
            "style": "IPY_MODEL_37314d71ee8641e3b58c19a4def84962",
            "_dom_classes": [],
            "description": "100%",
            "_model_name": "FloatProgressModel",
            "bar_style": "success",
            "max": 2500,
            "_view_module": "@jupyter-widgets/controls",
            "_model_module_version": "1.5.0",
            "value": 2500,
            "_view_count": null,
            "_view_module_version": "1.5.0",
            "orientation": "horizontal",
            "min": 0,
            "description_tooltip": null,
            "_model_module": "@jupyter-widgets/controls",
            "layout": "IPY_MODEL_14a5b3c28f5a45228381d30af2d1349c"
          }
        },
        "63e862b55c604a7fa65c195863509bb4": {
          "model_module": "@jupyter-widgets/controls",
          "model_name": "HTMLModel",
          "state": {
            "_view_name": "HTMLView",
            "style": "IPY_MODEL_2984349ae92c41ed9a2b0e6c82341312",
            "_dom_classes": [],
            "description": "",
            "_model_name": "HTMLModel",
            "placeholder": "​",
            "_view_module": "@jupyter-widgets/controls",
            "_model_module_version": "1.5.0",
            "value": " 2500/2500 [1:25:41&lt;00:00,  2.06s/it]",
            "_view_count": null,
            "_view_module_version": "1.5.0",
            "description_tooltip": null,
            "_model_module": "@jupyter-widgets/controls",
            "layout": "IPY_MODEL_bd303a9e57cd48e394fbf1ce9e84d3a5"
          }
        },
        "37314d71ee8641e3b58c19a4def84962": {
          "model_module": "@jupyter-widgets/controls",
          "model_name": "ProgressStyleModel",
          "state": {
            "_view_name": "StyleView",
            "_model_name": "ProgressStyleModel",
            "description_width": "initial",
            "_view_module": "@jupyter-widgets/base",
            "_model_module_version": "1.5.0",
            "_view_count": null,
            "_view_module_version": "1.2.0",
            "bar_color": null,
            "_model_module": "@jupyter-widgets/controls"
          }
        },
        "14a5b3c28f5a45228381d30af2d1349c": {
          "model_module": "@jupyter-widgets/base",
          "model_name": "LayoutModel",
          "state": {
            "_view_name": "LayoutView",
            "grid_template_rows": null,
            "right": null,
            "justify_content": null,
            "_view_module": "@jupyter-widgets/base",
            "overflow": null,
            "_model_module_version": "1.2.0",
            "_view_count": null,
            "flex_flow": null,
            "width": null,
            "min_width": null,
            "border": null,
            "align_items": null,
            "bottom": null,
            "_model_module": "@jupyter-widgets/base",
            "top": null,
            "grid_column": null,
            "overflow_y": null,
            "overflow_x": null,
            "grid_auto_flow": null,
            "grid_area": null,
            "grid_template_columns": null,
            "flex": null,
            "_model_name": "LayoutModel",
            "justify_items": null,
            "grid_row": null,
            "max_height": null,
            "align_content": null,
            "visibility": null,
            "align_self": null,
            "height": null,
            "min_height": null,
            "padding": null,
            "grid_auto_rows": null,
            "grid_gap": null,
            "max_width": null,
            "order": null,
            "_view_module_version": "1.2.0",
            "grid_template_areas": null,
            "object_position": null,
            "object_fit": null,
            "grid_auto_columns": null,
            "margin": null,
            "display": null,
            "left": null
          }
        },
        "2984349ae92c41ed9a2b0e6c82341312": {
          "model_module": "@jupyter-widgets/controls",
          "model_name": "DescriptionStyleModel",
          "state": {
            "_view_name": "StyleView",
            "_model_name": "DescriptionStyleModel",
            "description_width": "",
            "_view_module": "@jupyter-widgets/base",
            "_model_module_version": "1.5.0",
            "_view_count": null,
            "_view_module_version": "1.2.0",
            "_model_module": "@jupyter-widgets/controls"
          }
        },
        "bd303a9e57cd48e394fbf1ce9e84d3a5": {
          "model_module": "@jupyter-widgets/base",
          "model_name": "LayoutModel",
          "state": {
            "_view_name": "LayoutView",
            "grid_template_rows": null,
            "right": null,
            "justify_content": null,
            "_view_module": "@jupyter-widgets/base",
            "overflow": null,
            "_model_module_version": "1.2.0",
            "_view_count": null,
            "flex_flow": null,
            "width": null,
            "min_width": null,
            "border": null,
            "align_items": null,
            "bottom": null,
            "_model_module": "@jupyter-widgets/base",
            "top": null,
            "grid_column": null,
            "overflow_y": null,
            "overflow_x": null,
            "grid_auto_flow": null,
            "grid_area": null,
            "grid_template_columns": null,
            "flex": null,
            "_model_name": "LayoutModel",
            "justify_items": null,
            "grid_row": null,
            "max_height": null,
            "align_content": null,
            "visibility": null,
            "align_self": null,
            "height": null,
            "min_height": null,
            "padding": null,
            "grid_auto_rows": null,
            "grid_gap": null,
            "max_width": null,
            "order": null,
            "_view_module_version": "1.2.0",
            "grid_template_areas": null,
            "object_position": null,
            "object_fit": null,
            "grid_auto_columns": null,
            "margin": null,
            "display": null,
            "left": null
          }
        },
        "f65f1ccd40e9441ab90c32dc38967458": {
          "model_module": "@jupyter-widgets/controls",
          "model_name": "HBoxModel",
          "state": {
            "_view_name": "HBoxView",
            "_dom_classes": [],
            "_model_name": "HBoxModel",
            "_view_module": "@jupyter-widgets/controls",
            "_model_module_version": "1.5.0",
            "_view_count": null,
            "_view_module_version": "1.5.0",
            "box_style": "",
            "layout": "IPY_MODEL_db2a8d82ab5e46c1a35bbe0238e12a5d",
            "_model_module": "@jupyter-widgets/controls",
            "children": [
              "IPY_MODEL_352eae5213214485b5fa83bea2fb8022",
              "IPY_MODEL_5534f9fe7b2c4c78a2d74b50dc88d2c3"
            ]
          }
        },
        "db2a8d82ab5e46c1a35bbe0238e12a5d": {
          "model_module": "@jupyter-widgets/base",
          "model_name": "LayoutModel",
          "state": {
            "_view_name": "LayoutView",
            "grid_template_rows": null,
            "right": null,
            "justify_content": null,
            "_view_module": "@jupyter-widgets/base",
            "overflow": null,
            "_model_module_version": "1.2.0",
            "_view_count": null,
            "flex_flow": null,
            "width": null,
            "min_width": null,
            "border": null,
            "align_items": null,
            "bottom": null,
            "_model_module": "@jupyter-widgets/base",
            "top": null,
            "grid_column": null,
            "overflow_y": null,
            "overflow_x": null,
            "grid_auto_flow": null,
            "grid_area": null,
            "grid_template_columns": null,
            "flex": null,
            "_model_name": "LayoutModel",
            "justify_items": null,
            "grid_row": null,
            "max_height": null,
            "align_content": null,
            "visibility": null,
            "align_self": null,
            "height": null,
            "min_height": null,
            "padding": null,
            "grid_auto_rows": null,
            "grid_gap": null,
            "max_width": null,
            "order": null,
            "_view_module_version": "1.2.0",
            "grid_template_areas": null,
            "object_position": null,
            "object_fit": null,
            "grid_auto_columns": null,
            "margin": null,
            "display": null,
            "left": null
          }
        },
        "352eae5213214485b5fa83bea2fb8022": {
          "model_module": "@jupyter-widgets/controls",
          "model_name": "FloatProgressModel",
          "state": {
            "_view_name": "ProgressView",
            "style": "IPY_MODEL_5efa9639ca7a4a768dab75a6177a0da0",
            "_dom_classes": [],
            "description": "100%",
            "_model_name": "FloatProgressModel",
            "bar_style": "success",
            "max": 11,
            "_view_module": "@jupyter-widgets/controls",
            "_model_module_version": "1.5.0",
            "value": 11,
            "_view_count": null,
            "_view_module_version": "1.5.0",
            "orientation": "horizontal",
            "min": 0,
            "description_tooltip": null,
            "_model_module": "@jupyter-widgets/controls",
            "layout": "IPY_MODEL_90921a1ab33c45d1abaf5c49bdbc255e"
          }
        },
        "5534f9fe7b2c4c78a2d74b50dc88d2c3": {
          "model_module": "@jupyter-widgets/controls",
          "model_name": "HTMLModel",
          "state": {
            "_view_name": "HTMLView",
            "style": "IPY_MODEL_dd9f812258f0421895fd04fa65509f55",
            "_dom_classes": [],
            "description": "",
            "_model_name": "HTMLModel",
            "placeholder": "​",
            "_view_module": "@jupyter-widgets/controls",
            "_model_module_version": "1.5.0",
            "value": " 11/11 [10:35&lt;00:00, 57.77s/it]",
            "_view_count": null,
            "_view_module_version": "1.5.0",
            "description_tooltip": null,
            "_model_module": "@jupyter-widgets/controls",
            "layout": "IPY_MODEL_4b9c02a9353d45c79e9f5d24a422241d"
          }
        },
        "5efa9639ca7a4a768dab75a6177a0da0": {
          "model_module": "@jupyter-widgets/controls",
          "model_name": "ProgressStyleModel",
          "state": {
            "_view_name": "StyleView",
            "_model_name": "ProgressStyleModel",
            "description_width": "initial",
            "_view_module": "@jupyter-widgets/base",
            "_model_module_version": "1.5.0",
            "_view_count": null,
            "_view_module_version": "1.2.0",
            "bar_color": null,
            "_model_module": "@jupyter-widgets/controls"
          }
        },
        "90921a1ab33c45d1abaf5c49bdbc255e": {
          "model_module": "@jupyter-widgets/base",
          "model_name": "LayoutModel",
          "state": {
            "_view_name": "LayoutView",
            "grid_template_rows": null,
            "right": null,
            "justify_content": null,
            "_view_module": "@jupyter-widgets/base",
            "overflow": null,
            "_model_module_version": "1.2.0",
            "_view_count": null,
            "flex_flow": null,
            "width": null,
            "min_width": null,
            "border": null,
            "align_items": null,
            "bottom": null,
            "_model_module": "@jupyter-widgets/base",
            "top": null,
            "grid_column": null,
            "overflow_y": null,
            "overflow_x": null,
            "grid_auto_flow": null,
            "grid_area": null,
            "grid_template_columns": null,
            "flex": null,
            "_model_name": "LayoutModel",
            "justify_items": null,
            "grid_row": null,
            "max_height": null,
            "align_content": null,
            "visibility": null,
            "align_self": null,
            "height": null,
            "min_height": null,
            "padding": null,
            "grid_auto_rows": null,
            "grid_gap": null,
            "max_width": null,
            "order": null,
            "_view_module_version": "1.2.0",
            "grid_template_areas": null,
            "object_position": null,
            "object_fit": null,
            "grid_auto_columns": null,
            "margin": null,
            "display": null,
            "left": null
          }
        },
        "dd9f812258f0421895fd04fa65509f55": {
          "model_module": "@jupyter-widgets/controls",
          "model_name": "DescriptionStyleModel",
          "state": {
            "_view_name": "StyleView",
            "_model_name": "DescriptionStyleModel",
            "description_width": "",
            "_view_module": "@jupyter-widgets/base",
            "_model_module_version": "1.5.0",
            "_view_count": null,
            "_view_module_version": "1.2.0",
            "_model_module": "@jupyter-widgets/controls"
          }
        },
        "4b9c02a9353d45c79e9f5d24a422241d": {
          "model_module": "@jupyter-widgets/base",
          "model_name": "LayoutModel",
          "state": {
            "_view_name": "LayoutView",
            "grid_template_rows": null,
            "right": null,
            "justify_content": null,
            "_view_module": "@jupyter-widgets/base",
            "overflow": null,
            "_model_module_version": "1.2.0",
            "_view_count": null,
            "flex_flow": null,
            "width": null,
            "min_width": null,
            "border": null,
            "align_items": null,
            "bottom": null,
            "_model_module": "@jupyter-widgets/base",
            "top": null,
            "grid_column": null,
            "overflow_y": null,
            "overflow_x": null,
            "grid_auto_flow": null,
            "grid_area": null,
            "grid_template_columns": null,
            "flex": null,
            "_model_name": "LayoutModel",
            "justify_items": null,
            "grid_row": null,
            "max_height": null,
            "align_content": null,
            "visibility": null,
            "align_self": null,
            "height": null,
            "min_height": null,
            "padding": null,
            "grid_auto_rows": null,
            "grid_gap": null,
            "max_width": null,
            "order": null,
            "_view_module_version": "1.2.0",
            "grid_template_areas": null,
            "object_position": null,
            "object_fit": null,
            "grid_auto_columns": null,
            "margin": null,
            "display": null,
            "left": null
          }
        },
        "285f62125d434303a3748282c9e276a7": {
          "model_module": "@jupyter-widgets/controls",
          "model_name": "HBoxModel",
          "state": {
            "_view_name": "HBoxView",
            "_dom_classes": [],
            "_model_name": "HBoxModel",
            "_view_module": "@jupyter-widgets/controls",
            "_model_module_version": "1.5.0",
            "_view_count": null,
            "_view_module_version": "1.5.0",
            "box_style": "",
            "layout": "IPY_MODEL_a6df6eb157bc48f08a818b1b07b16179",
            "_model_module": "@jupyter-widgets/controls",
            "children": [
              "IPY_MODEL_96b7cb840bb04ee990ce6aeb89599aeb",
              "IPY_MODEL_f81878e69d774498a5241cbfa3e8e773"
            ]
          }
        },
        "a6df6eb157bc48f08a818b1b07b16179": {
          "model_module": "@jupyter-widgets/base",
          "model_name": "LayoutModel",
          "state": {
            "_view_name": "LayoutView",
            "grid_template_rows": null,
            "right": null,
            "justify_content": null,
            "_view_module": "@jupyter-widgets/base",
            "overflow": null,
            "_model_module_version": "1.2.0",
            "_view_count": null,
            "flex_flow": null,
            "width": null,
            "min_width": null,
            "border": null,
            "align_items": null,
            "bottom": null,
            "_model_module": "@jupyter-widgets/base",
            "top": null,
            "grid_column": null,
            "overflow_y": null,
            "overflow_x": null,
            "grid_auto_flow": null,
            "grid_area": null,
            "grid_template_columns": null,
            "flex": null,
            "_model_name": "LayoutModel",
            "justify_items": null,
            "grid_row": null,
            "max_height": null,
            "align_content": null,
            "visibility": null,
            "align_self": null,
            "height": null,
            "min_height": null,
            "padding": null,
            "grid_auto_rows": null,
            "grid_gap": null,
            "max_width": null,
            "order": null,
            "_view_module_version": "1.2.0",
            "grid_template_areas": null,
            "object_position": null,
            "object_fit": null,
            "grid_auto_columns": null,
            "margin": null,
            "display": null,
            "left": null
          }
        },
        "96b7cb840bb04ee990ce6aeb89599aeb": {
          "model_module": "@jupyter-widgets/controls",
          "model_name": "FloatProgressModel",
          "state": {
            "_view_name": "ProgressView",
            "style": "IPY_MODEL_bcf66de3190c45f387981262e06e1b01",
            "_dom_classes": [],
            "description": "100%",
            "_model_name": "FloatProgressModel",
            "bar_style": "success",
            "max": 1250,
            "_view_module": "@jupyter-widgets/controls",
            "_model_module_version": "1.5.0",
            "value": 1250,
            "_view_count": null,
            "_view_module_version": "1.5.0",
            "orientation": "horizontal",
            "min": 0,
            "description_tooltip": null,
            "_model_module": "@jupyter-widgets/controls",
            "layout": "IPY_MODEL_2a1b6d5bf7964ec8af48f3a35d3a21f0"
          }
        },
        "f81878e69d774498a5241cbfa3e8e773": {
          "model_module": "@jupyter-widgets/controls",
          "model_name": "HTMLModel",
          "state": {
            "_view_name": "HTMLView",
            "style": "IPY_MODEL_c201da90364c457393d11fc1b5d7b2e7",
            "_dom_classes": [],
            "description": "",
            "_model_name": "HTMLModel",
            "placeholder": "​",
            "_view_module": "@jupyter-widgets/controls",
            "_model_module_version": "1.5.0",
            "value": " 1250/1250 [10:25&lt;00:00,  2.00it/s]",
            "_view_count": null,
            "_view_module_version": "1.5.0",
            "description_tooltip": null,
            "_model_module": "@jupyter-widgets/controls",
            "layout": "IPY_MODEL_60f3b76122ad4291a93f2fb12dc0ada1"
          }
        },
        "bcf66de3190c45f387981262e06e1b01": {
          "model_module": "@jupyter-widgets/controls",
          "model_name": "ProgressStyleModel",
          "state": {
            "_view_name": "StyleView",
            "_model_name": "ProgressStyleModel",
            "description_width": "initial",
            "_view_module": "@jupyter-widgets/base",
            "_model_module_version": "1.5.0",
            "_view_count": null,
            "_view_module_version": "1.2.0",
            "bar_color": null,
            "_model_module": "@jupyter-widgets/controls"
          }
        },
        "2a1b6d5bf7964ec8af48f3a35d3a21f0": {
          "model_module": "@jupyter-widgets/base",
          "model_name": "LayoutModel",
          "state": {
            "_view_name": "LayoutView",
            "grid_template_rows": null,
            "right": null,
            "justify_content": null,
            "_view_module": "@jupyter-widgets/base",
            "overflow": null,
            "_model_module_version": "1.2.0",
            "_view_count": null,
            "flex_flow": null,
            "width": null,
            "min_width": null,
            "border": null,
            "align_items": null,
            "bottom": null,
            "_model_module": "@jupyter-widgets/base",
            "top": null,
            "grid_column": null,
            "overflow_y": null,
            "overflow_x": null,
            "grid_auto_flow": null,
            "grid_area": null,
            "grid_template_columns": null,
            "flex": null,
            "_model_name": "LayoutModel",
            "justify_items": null,
            "grid_row": null,
            "max_height": null,
            "align_content": null,
            "visibility": null,
            "align_self": null,
            "height": null,
            "min_height": null,
            "padding": null,
            "grid_auto_rows": null,
            "grid_gap": null,
            "max_width": null,
            "order": null,
            "_view_module_version": "1.2.0",
            "grid_template_areas": null,
            "object_position": null,
            "object_fit": null,
            "grid_auto_columns": null,
            "margin": null,
            "display": null,
            "left": null
          }
        },
        "c201da90364c457393d11fc1b5d7b2e7": {
          "model_module": "@jupyter-widgets/controls",
          "model_name": "DescriptionStyleModel",
          "state": {
            "_view_name": "StyleView",
            "_model_name": "DescriptionStyleModel",
            "description_width": "",
            "_view_module": "@jupyter-widgets/base",
            "_model_module_version": "1.5.0",
            "_view_count": null,
            "_view_module_version": "1.2.0",
            "_model_module": "@jupyter-widgets/controls"
          }
        },
        "60f3b76122ad4291a93f2fb12dc0ada1": {
          "model_module": "@jupyter-widgets/base",
          "model_name": "LayoutModel",
          "state": {
            "_view_name": "LayoutView",
            "grid_template_rows": null,
            "right": null,
            "justify_content": null,
            "_view_module": "@jupyter-widgets/base",
            "overflow": null,
            "_model_module_version": "1.2.0",
            "_view_count": null,
            "flex_flow": null,
            "width": null,
            "min_width": null,
            "border": null,
            "align_items": null,
            "bottom": null,
            "_model_module": "@jupyter-widgets/base",
            "top": null,
            "grid_column": null,
            "overflow_y": null,
            "overflow_x": null,
            "grid_auto_flow": null,
            "grid_area": null,
            "grid_template_columns": null,
            "flex": null,
            "_model_name": "LayoutModel",
            "justify_items": null,
            "grid_row": null,
            "max_height": null,
            "align_content": null,
            "visibility": null,
            "align_self": null,
            "height": null,
            "min_height": null,
            "padding": null,
            "grid_auto_rows": null,
            "grid_gap": null,
            "max_width": null,
            "order": null,
            "_view_module_version": "1.2.0",
            "grid_template_areas": null,
            "object_position": null,
            "object_fit": null,
            "grid_auto_columns": null,
            "margin": null,
            "display": null,
            "left": null
          }
        }
      }
    }
  },
  "cells": [
    {
      "cell_type": "markdown",
      "metadata": {
        "id": "5tstgoJw4qik"
      },
      "source": [
        "##Installing required packages"
      ]
    },
    {
      "cell_type": "code",
      "metadata": {
        "colab": {
          "base_uri": "https://localhost:8080/"
        },
        "id": "A8OsVkLC4JVn",
        "outputId": "68878a7b-ccc8-4307-ed55-97f3c87a522c"
      },
      "source": [
        "!pip install ml-datasets"
      ],
      "execution_count": null,
      "outputs": [
        {
          "output_type": "stream",
          "text": [
            "Requirement already satisfied: ml-datasets in /usr/local/lib/python3.7/dist-packages (0.2.0)\n",
            "Requirement already satisfied: numpy>=1.7.0 in /usr/local/lib/python3.7/dist-packages (from ml-datasets) (1.19.5)\n",
            "Requirement already satisfied: srsly<3.0.0,>=1.0.1 in /usr/local/lib/python3.7/dist-packages (from ml-datasets) (1.0.5)\n",
            "Requirement already satisfied: tqdm<5.0.0,>=4.10.0 in /usr/local/lib/python3.7/dist-packages (from ml-datasets) (4.41.1)\n",
            "Requirement already satisfied: catalogue<3.0.0,>=0.2.0 in /usr/local/lib/python3.7/dist-packages (from ml-datasets) (1.0.0)\n",
            "Requirement already satisfied: importlib-metadata>=0.20; python_version < \"3.8\" in /usr/local/lib/python3.7/dist-packages (from catalogue<3.0.0,>=0.2.0->ml-datasets) (3.10.1)\n",
            "Requirement already satisfied: typing-extensions>=3.6.4; python_version < \"3.8\" in /usr/local/lib/python3.7/dist-packages (from importlib-metadata>=0.20; python_version < \"3.8\"->catalogue<3.0.0,>=0.2.0->ml-datasets) (3.7.4.3)\n",
            "Requirement already satisfied: zipp>=0.5 in /usr/local/lib/python3.7/dist-packages (from importlib-metadata>=0.20; python_version < \"3.8\"->catalogue<3.0.0,>=0.2.0->ml-datasets) (3.4.1)\n"
          ],
          "name": "stdout"
        }
      ]
    },
    {
      "cell_type": "code",
      "metadata": {
        "colab": {
          "base_uri": "https://localhost:8080/"
        },
        "id": "9eLIByhz4WOb",
        "outputId": "b3489093-dbc4-49c2-962e-520e5e278da2"
      },
      "source": [
        "!python -m spacy download en_core_web_md"
      ],
      "execution_count": null,
      "outputs": [
        {
          "output_type": "stream",
          "text": [
            "2021-04-20 05:40:50.108840: I tensorflow/stream_executor/platform/default/dso_loader.cc:49] Successfully opened dynamic library libcudart.so.11.0\n",
            "Collecting en-core-web-md==3.0.0\n",
            "\u001b[?25l  Downloading https://github.com/explosion/spacy-models/releases/download/en_core_web_md-3.0.0/en_core_web_md-3.0.0-py3-none-any.whl (47.1MB)\n",
            "\u001b[K     |████████████████████████████████| 47.1MB 157kB/s \n",
            "\u001b[?25hRequirement already satisfied: spacy<3.1.0,>=3.0.0 in /usr/local/lib/python3.7/dist-packages (from en-core-web-md==3.0.0) (3.0.3)\n",
            "Requirement already satisfied: packaging>=20.0 in /usr/local/lib/python3.7/dist-packages (from spacy<3.1.0,>=3.0.0->en-core-web-md==3.0.0) (20.9)\n",
            "Requirement already satisfied: cymem<2.1.0,>=2.0.2 in /usr/local/lib/python3.7/dist-packages (from spacy<3.1.0,>=3.0.0->en-core-web-md==3.0.0) (2.0.5)\n",
            "Requirement already satisfied: jinja2 in /usr/local/lib/python3.7/dist-packages (from spacy<3.1.0,>=3.0.0->en-core-web-md==3.0.0) (2.11.3)\n",
            "Requirement already satisfied: blis<0.8.0,>=0.4.0 in /usr/local/lib/python3.7/dist-packages (from spacy<3.1.0,>=3.0.0->en-core-web-md==3.0.0) (0.4.1)\n",
            "Requirement already satisfied: pathy in /usr/local/lib/python3.7/dist-packages (from spacy<3.1.0,>=3.0.0->en-core-web-md==3.0.0) (0.4.0)\n",
            "Requirement already satisfied: thinc<8.1.0,>=8.0.0 in /usr/local/lib/python3.7/dist-packages (from spacy<3.1.0,>=3.0.0->en-core-web-md==3.0.0) (8.0.3)\n",
            "Requirement already satisfied: tqdm<5.0.0,>=4.38.0 in /usr/local/lib/python3.7/dist-packages (from spacy<3.1.0,>=3.0.0->en-core-web-md==3.0.0) (4.41.1)\n",
            "Requirement already satisfied: importlib-metadata>=0.20; python_version < \"3.8\" in /usr/local/lib/python3.7/dist-packages (from spacy<3.1.0,>=3.0.0->en-core-web-md==3.0.0) (3.10.1)\n",
            "Requirement already satisfied: typing-extensions>=3.7.4; python_version < \"3.8\" in /usr/local/lib/python3.7/dist-packages (from spacy<3.1.0,>=3.0.0->en-core-web-md==3.0.0) (3.7.4.3)\n",
            "Requirement already satisfied: srsly<3.0.0,>=2.4.0 in /usr/local/lib/python3.7/dist-packages (from spacy<3.1.0,>=3.0.0->en-core-web-md==3.0.0) (2.4.1)\n",
            "Requirement already satisfied: catalogue<2.1.0,>=2.0.1 in /usr/local/lib/python3.7/dist-packages (from spacy<3.1.0,>=3.0.0->en-core-web-md==3.0.0) (2.0.3)\n",
            "Requirement already satisfied: setuptools in /usr/local/lib/python3.7/dist-packages (from spacy<3.1.0,>=3.0.0->en-core-web-md==3.0.0) (54.2.0)\n",
            "Requirement already satisfied: spacy-legacy<3.1.0,>=3.0.0 in /usr/local/lib/python3.7/dist-packages (from spacy<3.1.0,>=3.0.0->en-core-web-md==3.0.0) (3.0.2)\n",
            "Requirement already satisfied: wasabi<1.1.0,>=0.8.1 in /usr/local/lib/python3.7/dist-packages (from spacy<3.1.0,>=3.0.0->en-core-web-md==3.0.0) (0.8.2)\n",
            "Requirement already satisfied: preshed<3.1.0,>=3.0.2 in /usr/local/lib/python3.7/dist-packages (from spacy<3.1.0,>=3.0.0->en-core-web-md==3.0.0) (3.0.5)\n",
            "Requirement already satisfied: murmurhash<1.1.0,>=0.28.0 in /usr/local/lib/python3.7/dist-packages (from spacy<3.1.0,>=3.0.0->en-core-web-md==3.0.0) (1.0.5)\n",
            "Requirement already satisfied: requests<3.0.0,>=2.13.0 in /usr/local/lib/python3.7/dist-packages (from spacy<3.1.0,>=3.0.0->en-core-web-md==3.0.0) (2.23.0)\n",
            "Requirement already satisfied: typer<0.4.0,>=0.3.0 in /usr/local/lib/python3.7/dist-packages (from spacy<3.1.0,>=3.0.0->en-core-web-md==3.0.0) (0.3.2)\n",
            "Requirement already satisfied: pydantic<1.8.0,>=1.7.1 in /usr/local/lib/python3.7/dist-packages (from spacy<3.1.0,>=3.0.0->en-core-web-md==3.0.0) (1.7.3)\n",
            "Requirement already satisfied: numpy>=1.15.0 in /usr/local/lib/python3.7/dist-packages (from spacy<3.1.0,>=3.0.0->en-core-web-md==3.0.0) (1.19.5)\n",
            "Requirement already satisfied: pyparsing>=2.0.2 in /usr/local/lib/python3.7/dist-packages (from packaging>=20.0->spacy<3.1.0,>=3.0.0->en-core-web-md==3.0.0) (2.4.7)\n",
            "Requirement already satisfied: MarkupSafe>=0.23 in /usr/local/lib/python3.7/dist-packages (from jinja2->spacy<3.1.0,>=3.0.0->en-core-web-md==3.0.0) (1.1.1)\n",
            "Requirement already satisfied: smart-open<4.0.0,>=2.2.0 in /usr/local/lib/python3.7/dist-packages (from pathy->spacy<3.1.0,>=3.0.0->en-core-web-md==3.0.0) (3.0.0)\n",
            "Requirement already satisfied: zipp>=0.5 in /usr/local/lib/python3.7/dist-packages (from importlib-metadata>=0.20; python_version < \"3.8\"->spacy<3.1.0,>=3.0.0->en-core-web-md==3.0.0) (3.4.1)\n",
            "Requirement already satisfied: certifi>=2017.4.17 in /usr/local/lib/python3.7/dist-packages (from requests<3.0.0,>=2.13.0->spacy<3.1.0,>=3.0.0->en-core-web-md==3.0.0) (2020.12.5)\n",
            "Requirement already satisfied: idna<3,>=2.5 in /usr/local/lib/python3.7/dist-packages (from requests<3.0.0,>=2.13.0->spacy<3.1.0,>=3.0.0->en-core-web-md==3.0.0) (2.10)\n",
            "Requirement already satisfied: chardet<4,>=3.0.2 in /usr/local/lib/python3.7/dist-packages (from requests<3.0.0,>=2.13.0->spacy<3.1.0,>=3.0.0->en-core-web-md==3.0.0) (3.0.4)\n",
            "Requirement already satisfied: urllib3!=1.25.0,!=1.25.1,<1.26,>=1.21.1 in /usr/local/lib/python3.7/dist-packages (from requests<3.0.0,>=2.13.0->spacy<3.1.0,>=3.0.0->en-core-web-md==3.0.0) (1.24.3)\n",
            "Requirement already satisfied: click<7.2.0,>=7.1.1 in /usr/local/lib/python3.7/dist-packages (from typer<0.4.0,>=0.3.0->spacy<3.1.0,>=3.0.0->en-core-web-md==3.0.0) (7.1.2)\n",
            "Installing collected packages: en-core-web-md\n",
            "  Found existing installation: en-core-web-md 2.2.5\n",
            "    Uninstalling en-core-web-md-2.2.5:\n",
            "      Successfully uninstalled en-core-web-md-2.2.5\n",
            "Successfully installed en-core-web-md-3.0.0\n",
            "\u001b[38;5;2m✔ Download and installation successful\u001b[0m\n",
            "You can now load the package via spacy.load('en_core_web_md')\n"
          ],
          "name": "stdout"
        }
      ]
    },
    {
      "cell_type": "code",
      "metadata": {
        "colab": {
          "base_uri": "https://localhost:8080/"
        },
        "id": "ZrtJtU7f7BhV",
        "outputId": "09634564-1397-41c3-813b-116ce47ff81e"
      },
      "source": [
        "!pip install spacy==3.0.3"
      ],
      "execution_count": null,
      "outputs": [
        {
          "output_type": "stream",
          "text": [
            "Collecting spacy==3.0.3\n",
            "\u001b[?25l  Downloading https://files.pythonhosted.org/packages/c8/06/112740b1f4b549eb12becd86b6d8891267988669844dd23e00b6ca1b997c/spacy-3.0.3-cp37-cp37m-manylinux2014_x86_64.whl (12.7MB)\n",
            "\u001b[K     |████████████████████████████████| 12.7MB 21.2MB/s \n",
            "\u001b[?25hRequirement already satisfied: cymem<2.1.0,>=2.0.2 in /usr/local/lib/python3.7/dist-packages (from spacy==3.0.3) (2.0.5)\n",
            "Requirement already satisfied: jinja2 in /usr/local/lib/python3.7/dist-packages (from spacy==3.0.3) (2.11.3)\n",
            "Requirement already satisfied: requests<3.0.0,>=2.13.0 in /usr/local/lib/python3.7/dist-packages (from spacy==3.0.3) (2.23.0)\n",
            "Collecting spacy-legacy<3.1.0,>=3.0.0\n",
            "  Downloading https://files.pythonhosted.org/packages/78/d8/e25bc7f99877de34def57d36769f0cce4e895b374cdc766718efc724f9ac/spacy_legacy-3.0.2-py2.py3-none-any.whl\n",
            "Requirement already satisfied: wasabi<1.1.0,>=0.8.1 in /usr/local/lib/python3.7/dist-packages (from spacy==3.0.3) (0.8.2)\n",
            "Collecting typer<0.4.0,>=0.3.0\n",
            "  Downloading https://files.pythonhosted.org/packages/90/34/d138832f6945432c638f32137e6c79a3b682f06a63c488dcfaca6b166c64/typer-0.3.2-py3-none-any.whl\n",
            "Requirement already satisfied: preshed<3.1.0,>=3.0.2 in /usr/local/lib/python3.7/dist-packages (from spacy==3.0.3) (3.0.5)\n",
            "Requirement already satisfied: setuptools in /usr/local/lib/python3.7/dist-packages (from spacy==3.0.3) (54.2.0)\n",
            "Collecting thinc<8.1.0,>=8.0.0\n",
            "\u001b[?25l  Downloading https://files.pythonhosted.org/packages/61/87/decceba68a0c6ca356ddcb6aea8b2500e71d9bc187f148aae19b747b7d3c/thinc-8.0.3-cp37-cp37m-manylinux2014_x86_64.whl (1.1MB)\n",
            "\u001b[K     |████████████████████████████████| 1.1MB 51.1MB/s \n",
            "\u001b[?25hCollecting pydantic<1.8.0,>=1.7.1\n",
            "\u001b[?25l  Downloading https://files.pythonhosted.org/packages/b3/0a/52ae1c659fc08f13dd7c0ae07b88e4f807ad83fb9954a59b0b0a3d1a8ab6/pydantic-1.7.3-cp37-cp37m-manylinux2014_x86_64.whl (9.1MB)\n",
            "\u001b[K     |████████████████████████████████| 9.1MB 51.4MB/s \n",
            "\u001b[?25hRequirement already satisfied: numpy>=1.15.0 in /usr/local/lib/python3.7/dist-packages (from spacy==3.0.3) (1.19.5)\n",
            "Collecting srsly<3.0.0,>=2.4.0\n",
            "\u001b[?25l  Downloading https://files.pythonhosted.org/packages/c3/84/dfdfc9f6f04f6b88207d96d9520b911e5fec0c67ff47a0dea31ab5429a1e/srsly-2.4.1-cp37-cp37m-manylinux2014_x86_64.whl (456kB)\n",
            "\u001b[K     |████████████████████████████████| 460kB 48.4MB/s \n",
            "\u001b[?25hRequirement already satisfied: importlib-metadata>=0.20; python_version < \"3.8\" in /usr/local/lib/python3.7/dist-packages (from spacy==3.0.3) (3.10.1)\n",
            "Requirement already satisfied: murmurhash<1.1.0,>=0.28.0 in /usr/local/lib/python3.7/dist-packages (from spacy==3.0.3) (1.0.5)\n",
            "Requirement already satisfied: packaging>=20.0 in /usr/local/lib/python3.7/dist-packages (from spacy==3.0.3) (20.9)\n",
            "Requirement already satisfied: tqdm<5.0.0,>=4.38.0 in /usr/local/lib/python3.7/dist-packages (from spacy==3.0.3) (4.41.1)\n",
            "Collecting pathy\n",
            "  Downloading https://files.pythonhosted.org/packages/a2/53/97dc0197cca9357369b3b71bf300896cf2d3604fa60ffaaf5cbc277de7de/pathy-0.4.0-py3-none-any.whl\n",
            "Collecting catalogue<2.1.0,>=2.0.1\n",
            "  Downloading https://files.pythonhosted.org/packages/82/a5/b5021c74c04cac35a27d34cbf3146d86eb8e173b4491888bc4908c4c8b3b/catalogue-2.0.3-py3-none-any.whl\n",
            "Requirement already satisfied: typing-extensions>=3.7.4; python_version < \"3.8\" in /usr/local/lib/python3.7/dist-packages (from spacy==3.0.3) (3.7.4.3)\n",
            "Requirement already satisfied: blis<0.8.0,>=0.4.0 in /usr/local/lib/python3.7/dist-packages (from spacy==3.0.3) (0.4.1)\n",
            "Requirement already satisfied: MarkupSafe>=0.23 in /usr/local/lib/python3.7/dist-packages (from jinja2->spacy==3.0.3) (1.1.1)\n",
            "Requirement already satisfied: urllib3!=1.25.0,!=1.25.1,<1.26,>=1.21.1 in /usr/local/lib/python3.7/dist-packages (from requests<3.0.0,>=2.13.0->spacy==3.0.3) (1.24.3)\n",
            "Requirement already satisfied: chardet<4,>=3.0.2 in /usr/local/lib/python3.7/dist-packages (from requests<3.0.0,>=2.13.0->spacy==3.0.3) (3.0.4)\n",
            "Requirement already satisfied: certifi>=2017.4.17 in /usr/local/lib/python3.7/dist-packages (from requests<3.0.0,>=2.13.0->spacy==3.0.3) (2020.12.5)\n",
            "Requirement already satisfied: idna<3,>=2.5 in /usr/local/lib/python3.7/dist-packages (from requests<3.0.0,>=2.13.0->spacy==3.0.3) (2.10)\n",
            "Requirement already satisfied: click<7.2.0,>=7.1.1 in /usr/local/lib/python3.7/dist-packages (from typer<0.4.0,>=0.3.0->spacy==3.0.3) (7.1.2)\n",
            "Requirement already satisfied: zipp>=0.5 in /usr/local/lib/python3.7/dist-packages (from importlib-metadata>=0.20; python_version < \"3.8\"->spacy==3.0.3) (3.4.1)\n",
            "Requirement already satisfied: pyparsing>=2.0.2 in /usr/local/lib/python3.7/dist-packages (from packaging>=20.0->spacy==3.0.3) (2.4.7)\n",
            "Collecting smart-open<4.0.0,>=2.2.0\n",
            "\u001b[?25l  Downloading https://files.pythonhosted.org/packages/11/9a/ba2d5f67f25e8d5bbf2fcec7a99b1e38428e83cb715f64dd179ca43a11bb/smart_open-3.0.0.tar.gz (113kB)\n",
            "\u001b[K     |████████████████████████████████| 122kB 50.0MB/s \n",
            "\u001b[?25hBuilding wheels for collected packages: smart-open\n",
            "  Building wheel for smart-open (setup.py) ... \u001b[?25l\u001b[?25hdone\n",
            "  Created wheel for smart-open: filename=smart_open-3.0.0-cp37-none-any.whl size=107098 sha256=a12686645f8e309c90aff5a6a7ef0419c428e1063052076a83f898c66b0d2dfb\n",
            "  Stored in directory: /root/.cache/pip/wheels/18/88/7c/f06dabd5e9cabe02d2269167bcacbbf9b47d0c0ff7d6ebcb78\n",
            "Successfully built smart-open\n",
            "Installing collected packages: spacy-legacy, typer, pydantic, catalogue, srsly, thinc, smart-open, pathy, spacy\n",
            "  Found existing installation: catalogue 1.0.0\n",
            "    Uninstalling catalogue-1.0.0:\n",
            "      Successfully uninstalled catalogue-1.0.0\n",
            "  Found existing installation: srsly 1.0.5\n",
            "    Uninstalling srsly-1.0.5:\n",
            "      Successfully uninstalled srsly-1.0.5\n",
            "  Found existing installation: thinc 7.4.0\n",
            "    Uninstalling thinc-7.4.0:\n",
            "      Successfully uninstalled thinc-7.4.0\n",
            "  Found existing installation: smart-open 5.0.0\n",
            "    Uninstalling smart-open-5.0.0:\n",
            "      Successfully uninstalled smart-open-5.0.0\n",
            "  Found existing installation: spacy 2.2.4\n",
            "    Uninstalling spacy-2.2.4:\n",
            "      Successfully uninstalled spacy-2.2.4\n",
            "Successfully installed catalogue-2.0.3 pathy-0.4.0 pydantic-1.7.3 smart-open-3.0.0 spacy-3.0.3 spacy-legacy-3.0.2 srsly-2.4.1 thinc-8.0.3 typer-0.3.2\n"
          ],
          "name": "stdout"
        }
      ]
    },
    {
      "cell_type": "markdown",
      "metadata": {
        "id": "6ZSHbdyW4wrq"
      },
      "source": [
        "## Import modules"
      ]
    },
    {
      "cell_type": "code",
      "metadata": {
        "id": "7CVt5EkZ48p5"
      },
      "source": [
        "import spacy\n",
        "from tqdm.auto import tqdm\n",
        "from spacy.tokens import DocBin\n",
        "from ml_datasets import imdb\n",
        "import matplotlib.pyplot as plt"
      ],
      "execution_count": null,
      "outputs": []
    },
    {
      "cell_type": "markdown",
      "metadata": {
        "id": "NHyNeI35Bdw-"
      },
      "source": [
        "## Loading model and IMDB dataset"
      ]
    },
    {
      "cell_type": "code",
      "metadata": {
        "colab": {
          "base_uri": "https://localhost:8080/"
        },
        "id": "Uy7O8sCT6GeN",
        "outputId": "2f437841-8868-4721-f96d-dcd7cc235fc1"
      },
      "source": [
        "# load a medium sized english language model in spacy\n",
        "nlp = spacy.load('en_core_web_md')\n",
        "print(spacy.__version__)\n",
        "print(nlp.pipe_names)"
      ],
      "execution_count": null,
      "outputs": [
        {
          "output_type": "stream",
          "text": [
            "3.0.3\n",
            "['tok2vec', 'tagger', 'parser', 'ner', 'attribute_ruler', 'lemmatizer']\n"
          ],
          "name": "stdout"
        }
      ]
    },
    {
      "cell_type": "code",
      "metadata": {
        "colab": {
          "base_uri": "https://localhost:8080/"
        },
        "id": "BtDgzIX45bfs",
        "outputId": "53fc08aa-1b96-4da4-e38b-627b0199444d"
      },
      "source": [
        "# load movie reviews as a tuple (text, label)\n",
        "train_data, valid_data = imdb()\n",
        "print(train_data[:2])\n",
        "print(valid_data[:2])"
      ],
      "execution_count": null,
      "outputs": [
        {
          "output_type": "stream",
          "text": [
            "[(\"This film has a lot of raw potential. The script is sharp, the dialogue is (usually) excellent (though it could stand to lose the cheezy voice-overs), the direction and cinematography is surprisingly quite good, though some of the experimentation just doesn't work. The main problem here is David Duchovny. Once a geek-boy, always a geek-boy; and the sad, simple fact is that he's incapable of playing anything but Fox Mulder. He postures, he tries to be slick, he poses, he tries to be macho. In the end he just tries too hard. He overplays his character, he overspeaks his lines, and he's just outplayed in all ways by Timothy Hutton and Angelina Jolie, who are each in a class above him in terms of acting skill. Timothy Hutton was (as always) really good. There was a spotty moment or two where he over-dramatized his role, but you could tell he was having fun with it. He looked the part, and he became the character both physically and atmospherically. Angelina Jolie was also really good. She didn't have much of a role; in fact, I though she could have used a much stronger one...her character wasn't nearly developed enough, though she did remarkably well with what she had. And the chemistry between her and Hutton was apparent (gee, maybe that's why Uma left him...;) All in all, it was rough around the edges, but a solid effort by a good cast and great supporting roles. If David Duchovny hadn't ripped his role to pieces it would've been *that* much better. 7/10.\", 'pos'), ('Horrible acting, horrible cast and cheap props. Would\\'ve been a lot better if was set as an action parody style movie. What a waste. Starting from the name of the movie.\\n\\n\\n\\n\"The Enemy\" Naming it \"Action Movie\" would\\'ve made it better. (contributing to the parody effect). The cop looking like a 60 Year old player, the blond girl just having the same blank boring look on her face at all times. Towards the end of the movie him and her are working together to take down the bad guys and every time they exchange words it just feels like the cheap lines given before a sex scene in a porn movie. Horrible. Don\\'t waste your time.', 'neg')]\n",
            "[(\"Someone on these Boards has predicated that the whole thing is being dreamed by the best friend of the protagonist, albeit a friend he hasn't seen for some 20 years. I'm reluctant to dismiss this out of hand but it does raise some viable questions. Why WOULD a telephone engineer - or a shoe salesman or butcher for that matter - WANT to create a mythical world and weave it around a friend populating it in the process with a set of equally mythical supporting characters. With an imagination that good the friend should be WRITING not Dreaming. Dream or not SOMEONE, and the obvious candidate is director Paolo Sorrentino, has created a very watchable world in which Tony Servillo makes stillness a Fine Art. We are asked to believe that forty-something Titta La Girolomo (Servillo) 'upset' the Mafia some years prior to our meeting him and as penance he is a virtual prisoner in a small Swiss hotel from which each week he drives to a local bank with a suitcase containing nine mill large in used notes. Other than this weekly trip he is free to do as he likes and what he likes to do is smoke, play cards with a man who cheats and a wife who reminds the husband how far they have fallen socially, and ignore the friendly overtures of Olivia Magnani, who has spent two years trying to get a smile and/or a 'good evening' out of him. For reasons best known to himself and which are inconsistent with a man who has no interest in anything or anyone, Servillo spends a certain amount of time every day applying a stethoscope to the wall of his bedroom and listening to the private conversations of his card-playing partners. Eventually he does respond to Magnani - he has to do so or they would be no film. This is plot 6f: the one about Destry, who never wears a gun, or Sean (Duke Wayne), the 'Quiet Man' who refuses to rise to provocation and fight until the obligatory scene where the gun is strapped on and the fists cocked - but instead of contenting himself with a polite come stai oggi he removes 100,000 from the suitcase and buys her a car. The final inconsistency occurs when Magnani tells him she will pick him up the following day at 4 pm in her car and they will drive into the mountains to celebrate his birthday. We've established that she lives locally so why she is then seen driving from somewhere miles away, ignoring a police roadblock to drive off the road and overturn the car is anyone's guess. This inconsistencies apart this remains a fine piece of film-making with an excellent lead performance and a very good supporting one.\", 'pos'), (\"Some TV programs continue into embarrassment (my beloved 'X-Files' comes to mind.) I've been a fan of Dennis Farina since 'Crime Story,' another late, lamented show. 'Buddy Faro' never had a chance. The series had a good premise and great actors. It's really, really a shame.\", 'pos')]\n"
          ],
          "name": "stdout"
        }
      ]
    },
    {
      "cell_type": "markdown",
      "metadata": {
        "id": "n1f4KDJs73WN"
      },
      "source": [
        "## Functions"
      ]
    },
    {
      "cell_type": "code",
      "metadata": {
        "id": "kAhzdNsX5xO6"
      },
      "source": [
        "def make_docs(data):\n",
        "    \"\"\"\n",
        "    this will take a list of texts and labels \n",
        "    and transform them in spacy documents\n",
        "    \n",
        "    data: list(tuple(text, label))\n",
        "    \n",
        "    returns: List(spacy.Doc.doc)\n",
        "    \"\"\"\n",
        "    \n",
        "    docs = []\n",
        "    # nlp.pipe([texts]) is way faster than running \n",
        "    # nlp(text) for each text\n",
        "    # as_tuples allows us to pass in a tuple, \n",
        "    # the first one is treated as text\n",
        "    # the second one will get returned as it is.\n",
        "    \n",
        "    for doc, label in tqdm(nlp.pipe(data, as_tuples=True), total = len(data)):\n",
        "        \n",
        "        # we need to set the (text)cat(egory) for each document\n",
        "        if label == 'pos':\n",
        "          doc.cats[\"categories\"] = 1\n",
        "        else:\n",
        "          doc.cats[\"categories\"] = 0\n",
        "        \n",
        "        # put them into a nice list\n",
        "        docs.append(doc)\n",
        "    \n",
        "    return docs"
      ],
      "execution_count": null,
      "outputs": []
    },
    {
      "cell_type": "code",
      "metadata": {
        "id": "0mE7xSB_it7k"
      },
      "source": [
        "def score(data,nlp):\n",
        "  '''\n",
        "      This function takes the labeled arguments and nlp objects and returns thresolds, precion, recall and all scores\n",
        "      Args : \n",
        "            data - (list (text,label))\n",
        "            nlp - (nlp object)\n",
        "      Returns :\n",
        "            thresolds - list of thresolds in range 0 to 1, stepsize 0.1\n",
        "            precison - list of precisions for different thresolds\n",
        "            recall - list of recalls for different thresolds\n",
        "            all_result - list of dcitionaries containing tn,fp,fn,tp for different thresolds\n",
        "\n",
        "  '''\n",
        "  thresolds = [x / 10.0 for x in range(0, 11, 1)]\n",
        "  precision = []\n",
        "  recall = []\n",
        "  result = {}\n",
        "  all_result = []\n",
        "  predicted_label = []\n",
        "  true_label = []\n",
        "  fpr = []\n",
        "  for thresold in tqdm(thresolds, total = len(thresolds)):\n",
        "    for doc, label in nlp.pipe(data, as_tuples=True):\n",
        "      if doc.cats['categories']>thresold:\n",
        "        predicted_label.append('pos')\n",
        "        true_label.append(label)\n",
        "      else:\n",
        "        predicted_label.append('neg')\n",
        "        true_label.append(label)\n",
        "    \n",
        "      for y_true,y_pred in list(zip(true_label,predicted_label)):\n",
        "        if y_true == 'neg' and y_pred == 'neg':\n",
        "          if 'tn' in result.keys():\n",
        "            result['tn'] += 1\n",
        "          else:\n",
        "            result['tn'] = 1\n",
        "        if y_true == 'neg' and y_pred == 'pos':\n",
        "          if 'fp' in result.keys():\n",
        "            result['fp'] += 1\n",
        "          else:\n",
        "            result['fp'] = 1\n",
        "        if y_true == 'pos' and y_pred == 'neg':\n",
        "          if 'fn' in result.keys():\n",
        "            result['fn'] += 1\n",
        "          else:\n",
        "            result['fn'] = 1\n",
        "        if y_true == 'pos' and y_pred == 'pos':\n",
        "          if 'tp' in result.keys():\n",
        "            result['tp'] += 1\n",
        "          else:\n",
        "            result['tp'] = 1\n",
        "    all_result.append(result)\n",
        "\n",
        "    if 'fp' not in result.keys():\n",
        "      precision.append(1)\n",
        "    else:\n",
        "      precision.append(result['tp']/(result['tp']+result['fp']))\n",
        "      \n",
        "    if 'fn' not in result.keys():\n",
        "      recall.append(1)\n",
        "    else:\n",
        "      recall.append(result['tp']/(result['tp']+result['fn']))\n",
        "\n",
        "    if 'fp' not in result.keys():\n",
        "      fpr.append(0)\n",
        "    elif 'tn' not in result.keys():\n",
        "      fpr.append(1)\n",
        "    else:\n",
        "      fpr.append(result['fp']/(result['fp']+result['tn']))\n",
        "      \n",
        "  return thresolds,precision,recall,fpr,all_result"
      ],
      "execution_count": null,
      "outputs": []
    },
    {
      "cell_type": "markdown",
      "metadata": {
        "id": "0ta7JIy2BBpz"
      },
      "source": [
        "## Preparing train and test data"
      ]
    },
    {
      "cell_type": "code",
      "metadata": {
        "colab": {
          "base_uri": "https://localhost:8080/",
          "height": 171,
          "referenced_widgets": [
            "0b6a49bfcc0a4513b2b0f8733d7903c8",
            "b6d7d650152b4d19a31ab4dee8875bf9",
            "ff49b306d29c4647b830f9324f1460fd",
            "19c5d96885a5458b822ca5005a789a95",
            "1a56d40246d841c794d1f5e2a0f46eba",
            "e67e619ef82b49d7bdf583bc3757b29c",
            "f97b815168a14975a90e6c6127a191bc",
            "4cf970505377467b89bdd72824658890"
          ]
        },
        "id": "5Q_wv_ZN8EPa",
        "outputId": "977686f3-b751-4939-b0c9-2659ab4a2fc4"
      },
      "source": [
        "num_training_texts = 10000\n",
        "\n",
        "train_docs = make_docs(train_data[:num_training_texts])\n",
        "print(train_docs[:2])"
      ],
      "execution_count": null,
      "outputs": [
        {
          "output_type": "display_data",
          "data": {
            "application/vnd.jupyter.widget-view+json": {
              "model_id": "0b6a49bfcc0a4513b2b0f8733d7903c8",
              "version_minor": 0,
              "version_major": 2
            },
            "text/plain": [
              "HBox(children=(FloatProgress(value=0.0, max=10000.0), HTML(value='')))"
            ]
          },
          "metadata": {
            "tags": []
          }
        },
        {
          "output_type": "stream",
          "text": [
            "\n",
            "[This film has a lot of raw potential. The script is sharp, the dialogue is (usually) excellent (though it could stand to lose the cheezy voice-overs), the direction and cinematography is surprisingly quite good, though some of the experimentation just doesn't work. The main problem here is David Duchovny. Once a geek-boy, always a geek-boy; and the sad, simple fact is that he's incapable of playing anything but Fox Mulder. He postures, he tries to be slick, he poses, he tries to be macho. In the end he just tries too hard. He overplays his character, he overspeaks his lines, and he's just outplayed in all ways by Timothy Hutton and Angelina Jolie, who are each in a class above him in terms of acting skill. Timothy Hutton was (as always) really good. There was a spotty moment or two where he over-dramatized his role, but you could tell he was having fun with it. He looked the part, and he became the character both physically and atmospherically. Angelina Jolie was also really good. She didn't have much of a role; in fact, I though she could have used a much stronger one...her character wasn't nearly developed enough, though she did remarkably well with what she had. And the chemistry between her and Hutton was apparent (gee, maybe that's why Uma left him...;) All in all, it was rough around the edges, but a solid effort by a good cast and great supporting roles. If David Duchovny hadn't ripped his role to pieces it would've been *that* much better. 7/10., Horrible acting, horrible cast and cheap props. Would've been a lot better if was set as an action parody style movie. What a waste. Starting from the name of the movie.\n",
            "\n",
            "\n",
            "\n",
            "\"The Enemy\" Naming it \"Action Movie\" would've made it better. (contributing to the parody effect). The cop looking like a 60 Year old player, the blond girl just having the same blank boring look on her face at all times. Towards the end of the movie him and her are working together to take down the bad guys and every time they exchange words it just feels like the cheap lines given before a sex scene in a porn movie. Horrible. Don't waste your time.]\n"
          ],
          "name": "stdout"
        }
      ]
    },
    {
      "cell_type": "code",
      "metadata": {
        "id": "_zMMfZCE8_Y1"
      },
      "source": [
        "#save training data into spacyV3 format\n",
        "doc_bin = DocBin(docs=train_docs)\n",
        "doc_bin.to_disk(\"/content/data/train.spacy\")"
      ],
      "execution_count": null,
      "outputs": []
    },
    {
      "cell_type": "code",
      "metadata": {
        "colab": {
          "base_uri": "https://localhost:8080/",
          "height": 66,
          "referenced_widgets": [
            "829ab32bdf15418b84e1c5217d598865",
            "69f5e06bc89d4a4bb1e824deb9e737b5",
            "d97048d1575c42fe8f297287189ae8b2",
            "63e862b55c604a7fa65c195863509bb4",
            "37314d71ee8641e3b58c19a4def84962",
            "14a5b3c28f5a45228381d30af2d1349c",
            "2984349ae92c41ed9a2b0e6c82341312",
            "bd303a9e57cd48e394fbf1ce9e84d3a5"
          ]
        },
        "id": "TkfC5WOT_fsV",
        "outputId": "465fb00f-9395-41bb-9f28-a7dbd3f1258a"
      },
      "source": [
        "# preparing validation data\n",
        "num_validation_text = 2500\n",
        "valid_docs = make_docs(valid_data[:num_validation_text])\n",
        "doc_bin = DocBin(docs=valid_docs)\n",
        "doc_bin.to_disk(\"./data/valid.spacy\")"
      ],
      "execution_count": null,
      "outputs": [
        {
          "output_type": "display_data",
          "data": {
            "application/vnd.jupyter.widget-view+json": {
              "model_id": "829ab32bdf15418b84e1c5217d598865",
              "version_minor": 0,
              "version_major": 2
            },
            "text/plain": [
              "HBox(children=(FloatProgress(value=0.0, max=2500.0), HTML(value='')))"
            ]
          },
          "metadata": {
            "tags": []
          }
        },
        {
          "output_type": "stream",
          "text": [
            "\n"
          ],
          "name": "stdout"
        }
      ]
    },
    {
      "cell_type": "code",
      "metadata": {
        "colab": {
          "base_uri": "https://localhost:8080/"
        },
        "id": "QAPs6T-S94N8",
        "outputId": "122790e8-a363-41a7-d8e1-aa2edd36f77c"
      },
      "source": [
        "total_positives_training = len([train_docs[i].cats['categories'] for i in range(len(train_docs)) if train_docs[i].cats['categories'] == 1])\n",
        "total_negatives_training = len([train_docs[i].cats['categories'] for i in range(len(train_docs)) if train_docs[i].cats['categories'] == 0])\n",
        "total_postives_valid = len([valid_docs[i].cats['categories'] for i in range(len(valid_docs)) if valid_docs[i].cats['categories'] == 1])\n",
        "total_negatives_valid = len([valid_docs[i].cats['categories'] for i in range(len(valid_docs)) if valid_docs[i].cats['categories'] == 0])\n",
        "print(\"Total positives in training set :\",total_positives_training)\n",
        "print(\"Total negatives in training set :\",total_negatives_training)\n",
        "print(\"Total positives in validation set :\",total_postives_valid)\n",
        "print(\"Total negatives in validation set :\",total_negatives_valid)"
      ],
      "execution_count": null,
      "outputs": [
        {
          "output_type": "stream",
          "text": [
            "Total positives in training set : 5047\n",
            "Total negatives in training set : 4953\n",
            "Total positives in validation set : 1244\n",
            "Total negatives in validation set : 1256\n"
          ],
          "name": "stdout"
        }
      ]
    },
    {
      "cell_type": "code",
      "metadata": {
        "id": "Wxf4gOnfI41D",
        "colab": {
          "base_uri": "https://localhost:8080/"
        },
        "outputId": "a5affb64-fef0-4bde-9b08-acd3f54ec1b0"
      },
      "source": [
        "!python -m spacy train config.cfg --output ./output --paths.train ./data/train.spacy --paths.dev ./data/valid.spacy --gpu-id 0"
      ],
      "execution_count": null,
      "outputs": [
        {
          "output_type": "stream",
          "text": [
            "2021-04-20 11:21:35.203529: I tensorflow/stream_executor/platform/default/dso_loader.cc:49] Successfully opened dynamic library libcudart.so.11.0\n",
            "\u001b[38;5;4mℹ Using GPU: 0\u001b[0m\n",
            "\u001b[1m\n",
            "=========================== Initializing pipeline ===========================\u001b[0m\n",
            "Set up nlp object from config\n",
            "Pipeline: ['tok2vec', 'tagger', 'parser', 'ner', 'attribute_ruler', 'lemmatizer', 'textcat']\n",
            "Created vocabulary\n",
            "Finished initializing nlp object\n",
            "Initialized pipeline components: ['textcat']\n",
            "\u001b[38;5;2m✔ Initialized pipeline\u001b[0m\n",
            "\u001b[1m\n",
            "============================= Training pipeline =============================\u001b[0m\n",
            "\u001b[38;5;4mℹ Pipeline: ['tok2vec', 'tagger', 'parser', 'ner', 'attribute_ruler',\n",
            "'lemmatizer', 'textcat']\u001b[0m\n",
            "\u001b[38;5;4mℹ Frozen components: ['tok2vec', 'tagger', 'parser', 'ner',\n",
            "'attribute_ruler', 'lemmatizer']\u001b[0m\n",
            "\u001b[38;5;4mℹ Initial learn rate: 0.001\u001b[0m\n",
            "E    #       LOSS TEXTCAT  TAG_ACC  SENTS_F  ENTS_F  ENTS_P  ENTS_R  LEMMA_ACC  CATS_SCORE  SCORE \n",
            "---  ------  ------------  -------  -------  ------  ------  ------  ---------  ----------  ------\n",
            "  0       0          0.25    99.62   100.00  100.00  100.00  100.00      99.62        0.00    0.80\n",
            "  0     500        114.14    99.62   100.00  100.00  100.00  100.00      99.62       88.81    0.98\n",
            "  0    1000         79.20    99.62   100.00  100.00  100.00  100.00      99.62       72.68    0.94\n",
            "  0    1500         64.53    99.62   100.00  100.00  100.00  100.00      99.62       76.11    0.95\n",
            "  0    2000         65.29    99.62   100.00  100.00  100.00  100.00      99.62       53.89    0.91\n",
            "  0    2500         53.93    99.62   100.00  100.00  100.00  100.00      99.62       72.48    0.94\n",
            "  0    3000         49.36    99.62   100.00  100.00  100.00  100.00      99.62       70.23    0.94\n",
            "  0    3500         33.05    99.62   100.00  100.00  100.00  100.00      99.62       71.17    0.94\n",
            "\u001b[38;5;2m✔ Saved pipeline to output directory\u001b[0m\n",
            "output/model-last\n"
          ],
          "name": "stdout"
        }
      ]
    },
    {
      "cell_type": "markdown",
      "metadata": {
        "id": "MZa9OGYvlscz"
      },
      "source": [
        "## Evaluating the model"
      ]
    },
    {
      "cell_type": "code",
      "metadata": {
        "colab": {
          "base_uri": "https://localhost:8080/"
        },
        "id": "I-5xqaJ0BP2J",
        "outputId": "4baf0102-3b4e-4573-b62a-666aa7e46632"
      },
      "source": [
        "nlp =  spacy.load(\"./output/model-best\")\n",
        "print(nlp.pipe_names)"
      ],
      "execution_count": null,
      "outputs": [
        {
          "output_type": "stream",
          "text": [
            "['tok2vec', 'tagger', 'parser', 'ner', 'attribute_ruler', 'lemmatizer', 'textcat']\n"
          ],
          "name": "stdout"
        }
      ]
    },
    {
      "cell_type": "code",
      "metadata": {
        "colab": {
          "base_uri": "https://localhost:8080/",
          "height": 66,
          "referenced_widgets": [
            "f65f1ccd40e9441ab90c32dc38967458",
            "db2a8d82ab5e46c1a35bbe0238e12a5d",
            "352eae5213214485b5fa83bea2fb8022",
            "5534f9fe7b2c4c78a2d74b50dc88d2c3",
            "5efa9639ca7a4a768dab75a6177a0da0",
            "90921a1ab33c45d1abaf5c49bdbc255e",
            "dd9f812258f0421895fd04fa65509f55",
            "4b9c02a9353d45c79e9f5d24a422241d"
          ]
        },
        "id": "gaJvu9EMJbLj",
        "outputId": "90f1229e-80c7-4f14-df1a-fa8bd7fb9f29"
      },
      "source": [
        "num_validation_text = 1250\n",
        "data = valid_data[:num_validation_text]\n",
        "thresolds,precision,recall,fpr,scores= score(data,nlp)"
      ],
      "execution_count": null,
      "outputs": [
        {
          "output_type": "display_data",
          "data": {
            "application/vnd.jupyter.widget-view+json": {
              "model_id": "f65f1ccd40e9441ab90c32dc38967458",
              "version_minor": 0,
              "version_major": 2
            },
            "text/plain": [
              "HBox(children=(FloatProgress(value=0.0, max=11.0), HTML(value='')))"
            ]
          },
          "metadata": {
            "tags": []
          }
        },
        {
          "output_type": "stream",
          "text": [
            "\n"
          ],
          "name": "stdout"
        }
      ]
    },
    {
      "cell_type": "code",
      "metadata": {
        "colab": {
          "base_uri": "https://localhost:8080/",
          "height": 83,
          "referenced_widgets": [
            "285f62125d434303a3748282c9e276a7",
            "a6df6eb157bc48f08a818b1b07b16179",
            "96b7cb840bb04ee990ce6aeb89599aeb",
            "f81878e69d774498a5241cbfa3e8e773",
            "bcf66de3190c45f387981262e06e1b01",
            "2a1b6d5bf7964ec8af48f3a35d3a21f0",
            "c201da90364c457393d11fc1b5d7b2e7",
            "60f3b76122ad4291a93f2fb12dc0ada1"
          ]
        },
        "id": "SLTh6-qYMuA_",
        "outputId": "8e650188-b953-4c86-8560-f02229c60452"
      },
      "source": [
        "test_docs = make_docs(data)\n",
        "test_postives_valid = len([test_docs[i].cats['categories'] for i in range(len(test_docs)) if test_docs[i].cats['categories'] == 1])\n",
        "test_negatives_valid = len([test_docs[i].cats['categories'] for i in range(len(test_docs)) if test_docs[i].cats['categories'] == 0])\n",
        "test_postives_valid,test_negatives_valid"
      ],
      "execution_count": null,
      "outputs": [
        {
          "output_type": "display_data",
          "data": {
            "application/vnd.jupyter.widget-view+json": {
              "model_id": "285f62125d434303a3748282c9e276a7",
              "version_minor": 0,
              "version_major": 2
            },
            "text/plain": [
              "HBox(children=(FloatProgress(value=0.0, max=1250.0), HTML(value='')))"
            ]
          },
          "metadata": {
            "tags": []
          }
        },
        {
          "output_type": "stream",
          "text": [
            "\n"
          ],
          "name": "stdout"
        },
        {
          "output_type": "execute_result",
          "data": {
            "text/plain": [
              "(620, 630)"
            ]
          },
          "metadata": {
            "tags": []
          },
          "execution_count": 139
        }
      ]
    },
    {
      "cell_type": "code",
      "metadata": {
        "colab": {
          "base_uri": "https://localhost:8080/",
          "height": 297
        },
        "id": "3WBD-b93a3tg",
        "outputId": "d9430c35-59d1-4d65-8f5d-2493f9c245a0"
      },
      "source": [
        "plt.figure(figsize =(8,4))\n",
        "plt.subplot(1,2,1)\n",
        "plt.plot(thresolds,precision)\n",
        "plt.ylabel('Precision')\n",
        "plt.subplot(1,2,2)\n",
        "plt.plot(thresolds,recall)\n",
        "plt.ylabel('Recall')\n",
        "plt.tight_layout()"
      ],
      "execution_count": null,
      "outputs": [
        {
          "output_type": "display_data",
          "data": {
            "image/png": "[encoded data removed]",
            "text/plain": [
              "<Figure size 576x288 with 2 Axes>"
            ]
          },
          "metadata": {
            "tags": [],
            "needs_background": "light"
          }
        }
      ]
    },
    {
      "cell_type": "code",
      "metadata": {
        "colab": {
          "base_uri": "https://localhost:8080/",
          "height": 296
        },
        "id": "qYmDcLpwThsh",
        "outputId": "d76f6ade-ac62-44c7-a893-efc29f856995"
      },
      "source": [
        "plt.figure(figsize = (8,4))\n",
        "plt.plot(fpr,recall)\n",
        "plt.xlabel('FPR')\n",
        "plt.ylabel('TPR/Recall')"
      ],
      "execution_count": null,
      "outputs": [
        {
          "output_type": "execute_result",
          "data": {
            "text/plain": [
              "Text(0, 0.5, 'TPR/Recall')"
            ]
          },
          "metadata": {
            "tags": []
          },
          "execution_count": 158
        },
        {
          "output_type": "display_data",
          "data": {
            "image/png": "[encoded data removed]",
            "text/plain": [
              "<Figure size 576x288 with 1 Axes>"
            ]
          },
          "metadata": {
            "tags": [],
            "needs_background": "light"
          }
        }
      ]
    },
    {
      "cell_type": "markdown",
      "metadata": {
        "id": "JyuieAvJcZCi"
      },
      "source": [
        "## Download model zip"
      ]
    },
    {
      "cell_type": "code",
      "metadata": {
        "id": "QoLiNLXUTm4t"
      },
      "source": [
        "!zip -r /content/output.zip /content/output"
      ],
      "execution_count": null,
      "outputs": []
    }
  ]
}